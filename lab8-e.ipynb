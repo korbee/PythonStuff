{
 "cells": [
  {
   "cell_type": "code",
   "execution_count": 7,
   "metadata": {},
   "outputs": [],
   "source": [
    "cadena_entrada = 'abracadabra biribiribi'"
   ]
  },
  {
   "cell_type": "code",
   "execution_count": 11,
   "metadata": {},
   "outputs": [],
   "source": [
    "lista_simbolos = []\n",
    "lista_frecuencia = []\n",
    "lista_prob = []"
   ]
  },
  {
   "cell_type": "code",
   "execution_count": 15,
   "metadata": {},
   "outputs": [],
   "source": [
    "ocurrencias_totales = 0\n",
    "for simbolo in cadena_entrada:\n",
    "    if simbolo not in lista_simbolos:\n",
    "        lista_simbolos.append(simbolo)\n",
    "        lista_frecuencia.append(1)\n",
    "    else:\n",
    "        lista_frecuencia[lista_simbolos.index(simbolo)] += 1 \n",
    "    ocurrencias_totales += 1\n",
    "        \n",
    "for index, simbolo in enumerate(lista_simbolos):\n",
    "    lista_prob.append(lista_frecuencia[index]/ocurrencias_totales) "
   ]
  },
  {
   "cell_type": "code",
   "execution_count": 13,
   "metadata": {},
   "outputs": [
    {
     "name": "stdout",
     "output_type": "stream",
     "text": [
      "['a', 'b', 'r', 'c', 'd', ' ', 'i']\n",
      "[5, 5, 4, 1, 1, 1, 5]\n",
      "[0.22727272727272727, 0.22727272727272727, 0.18181818181818182, 0.045454545454545456, 0.045454545454545456, 0.045454545454545456, 0.22727272727272727]\n"
     ]
    }
   ],
   "source": [
    "print(lista_simbolos)\n",
    "print(lista_frecuencia)\n",
    "print(lista_prob)"
   ]
  }
 ],
 "metadata": {
  "kernelspec": {
   "display_name": "Python 3",
   "language": "python",
   "name": "python3"
  },
  "language_info": {
   "codemirror_mode": {
    "name": "ipython",
    "version": 3
   },
   "file_extension": ".py",
   "mimetype": "text/x-python",
   "name": "python",
   "nbconvert_exporter": "python",
   "pygments_lexer": "ipython3",
   "version": "3.6.0"
  }
 },
 "nbformat": 4,
 "nbformat_minor": 2
}
