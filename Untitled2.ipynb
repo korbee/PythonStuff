{
 "cells": [
  {
   "cell_type": "code",
   "execution_count": 9,
   "metadata": {},
   "outputs": [
    {
     "name": "stdout",
     "output_type": "stream",
     "text": [
      "Ingrese perros grandes 5\n",
      "Ingrese perros med 2\n",
      "Ingrese perros chicos -6\n",
      "Ingrese perros chic 7\n"
     ]
    }
   ],
   "source": [
    "G = int(input('Ingrese perros grandes '))\n",
    "M = int(input('Ingrese perros med '))\n",
    "P = int(input('Ingrese perros chicos '))\n",
    "while (G < 0):\n",
    "    G  = int(input('Ingrese perros grandes '))\n",
    "while M < 0:\n",
    "    M = int(input('Ingrese perros med '))\n",
    "while (P < 0):\n",
    "    P = int(input('Ingrese perros chic '))"
   ]
  },
  {
   "cell_type": "code",
   "execution_count": 12,
   "metadata": {},
   "outputs": [
    {
     "name": "stdout",
     "output_type": "stream",
     "text": [
      "153390\n"
     ]
    }
   ],
   "source": [
    "resultado = (G * 489 + M * 326 + P * 288) * 30\n",
    "print(resultado)"
   ]
  }
 ],
 "metadata": {
  "kernelspec": {
   "display_name": "Python 3",
   "language": "python",
   "name": "python3"
  },
  "language_info": {
   "codemirror_mode": {
    "name": "ipython",
    "version": 3
   },
   "file_extension": ".py",
   "mimetype": "text/x-python",
   "name": "python",
   "nbconvert_exporter": "python",
   "pygments_lexer": "ipython3",
   "version": "3.6.0"
  }
 },
 "nbformat": 4,
 "nbformat_minor": 2
}
