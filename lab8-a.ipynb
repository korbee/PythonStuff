{
 "cells": [
  {
   "cell_type": "code",
   "execution_count": 9,
   "metadata": {},
   "outputs": [],
   "source": [
    "#n_palabras = int(input('Ingrese el numero de palabras: \\n'))\n",
    "n_palabras = 5"
   ]
  },
  {
   "cell_type": "code",
   "execution_count": 3,
   "metadata": {},
   "outputs": [
    {
     "name": "stdout",
     "output_type": "stream",
     "text": [
      "Ingrese proxima palabra: aya\n",
      "Ingrese proxima palabra: mata\n",
      "Ingrese proxima palabra: sada\n",
      "Ingrese proxima palabra: zxzxc\n",
      "Ingrese proxima palabra: haha\n"
     ]
    }
   ],
   "source": [
    "l_palabras = []\n",
    "for i in range(0, n_palabras):\n",
    "    prox_palabra = input('Ingrese proxima palabra: ')\n",
    "    l_palabras.append(prox_palabra)"
   ]
  },
  {
   "cell_type": "code",
   "execution_count": null,
   "metadata": {},
   "outputs": [],
   "source": []
  },
  {
   "cell_type": "code",
   "execution_count": 10,
   "metadata": {},
   "outputs": [
    {
     "name": "stdout",
     "output_type": "stream",
     "text": [
      "Ingrese la palabra a reemplazar: mata\n",
      "Ingrese la nueva palabra: vvvv\n"
     ]
    }
   ],
   "source": [
    "palabra_original = input('Ingrese la palabra a reemplazar: ')\n",
    "palabra_nueva = input('Ingrese la nueva palabra: ')"
   ]
  },
  {
   "cell_type": "code",
   "execution_count": 11,
   "metadata": {},
   "outputs": [],
   "source": [
    "#l_palabras[l_palabras.index(palabra_original)] = palabra_nueva\n",
    "for index, palabra in enumerate(l_palabras):\n",
    "    if palabra == palabra_original:\n",
    "        l_palabras[index] = palabra_nueva"
   ]
  },
  {
   "cell_type": "code",
   "execution_count": 12,
   "metadata": {},
   "outputs": [
    {
     "data": {
      "text/plain": [
       "['xxxxxdasd', 'vvvv', 'sada', 'zxzxc', 'haha']"
      ]
     },
     "execution_count": 12,
     "metadata": {},
     "output_type": "execute_result"
    }
   ],
   "source": [
    "l_palabras"
   ]
  }
 ],
 "metadata": {
  "kernelspec": {
   "display_name": "Python 3",
   "language": "python",
   "name": "python3"
  },
  "language_info": {
   "codemirror_mode": {
    "name": "ipython",
    "version": 3
   },
   "file_extension": ".py",
   "mimetype": "text/x-python",
   "name": "python",
   "nbconvert_exporter": "python",
   "pygments_lexer": "ipython3",
   "version": "3.6.0"
  }
 },
 "nbformat": 4,
 "nbformat_minor": 2
}
