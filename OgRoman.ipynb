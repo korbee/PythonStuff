{
 "cells": [
  {
   "cell_type": "code",
   "execution_count": 80,
   "metadata": {},
   "outputs": [],
   "source": [
    "sym_list = ['I', 'V', 'X', 'L', 'C', 'D', 'M']\n",
    "value_list = [1,5,10,50,100,500,1000]\n",
    "def transform_roman_to_values(roman_string):\n",
    "    this_value_list = []\n",
    "    for symbol in roman_string:\n",
    "        if symbol not in sym_list:\n",
    "            raise Exception('Roman symbol does not exist')\n",
    "        this_value = value_list[sym_list.index(symbol)]\n",
    "        this_value_list.append(this_value)\n",
    "    return this_value_list\n",
    "    "
   ]
  },
  {
   "cell_type": "code",
   "execution_count": 74,
   "metadata": {
    "scrolled": false
   },
   "outputs": [],
   "source": [
    "def transform_values_to_total(roman_values):\n",
    "\n",
    "    accum_list = [roman_values[0]]\n",
    "    last_val = roman_values[0]\n",
    "    total_value = 0\n",
    "    equal_count = 1\n",
    "    i = 1\n",
    "    while i < len(roman_values):\n",
    "        print('Current index', i)\n",
    "        print('Last value:', last_val)\n",
    "        if len(accum_list) > 3:\n",
    "            raise Exception('More than 3 same letters in a row')\n",
    "        if last_val == roman_values[i]:\n",
    "            accum_list.append(roman_values[i])\n",
    "            print('Same as last, appending', accum_list, total_value)\n",
    "            print(accum_list)\n",
    "        else:\n",
    "            print('Not same')\n",
    "            if last_val < roman_values[i]:\n",
    "                print('Current is greater, subtracting list from current ', end='')\n",
    "                if len(accum_list) > 1:\n",
    "                    raise Exception('More than 2 letters in a row before a greater letter')\n",
    "                total_value += roman_values[i] - sum(accum_list)\n",
    "                print(roman_values[i],'-', sum(accum_list), '=', total_value)\n",
    "            else:\n",
    "                print('Current is lower, adding total of accumulated')\n",
    "                total_value += sum(accum_list) + roman_values[i]\n",
    "            accum_list=list()\n",
    "            remaining_elements = len(roman_values) - (i+1)\n",
    "            if remaining_elements >= 1:\n",
    "                if remaining_elements >= 2:\n",
    "                    last_val = roman_values[i+1]\n",
    "                    accum_list.append(last_val)\n",
    "                    i += 1\n",
    "                else:\n",
    "                    total_value += roman_values[i+1]\n",
    "                    break\n",
    "            else:\n",
    "                break\n",
    "        i += 1\n",
    "    total_value += sum(accum_list)\n",
    "    accum_list = list()\n",
    "    return total_value\n"
   ]
  },
  {
   "cell_type": "code",
   "execution_count": 79,
   "metadata": {},
   "outputs": [
    {
     "name": "stdout",
     "output_type": "stream",
     "text": [
      "[100, 100, 1000, 1, 5, 50]\n",
      "Current index 1\n",
      "Last value: 100\n",
      "Same as last, appending [100, 100] 0\n",
      "[100, 100]\n",
      "Current index 2\n",
      "Last value: 100\n",
      "Not same\n",
      "Current is greater, subtracting list from current "
     ]
    },
    {
     "ename": "Exception",
     "evalue": "More than 2 letters in a row before a greater letter",
     "output_type": "error",
     "traceback": [
      "\u001b[0;31m---------------------------------------------------------------------------\u001b[0m",
      "\u001b[0;31mException\u001b[0m                                 Traceback (most recent call last)",
      "\u001b[0;32m<ipython-input-79-413be43d99cc>\u001b[0m in \u001b[0;36m<module>\u001b[0;34m\u001b[0m\n\u001b[1;32m      2\u001b[0m \u001b[0mroman_values\u001b[0m \u001b[0;34m=\u001b[0m \u001b[0mtransform_roman_to_values\u001b[0m\u001b[0;34m(\u001b[0m\u001b[0minput_roman\u001b[0m\u001b[0;34m)\u001b[0m\u001b[0;34m\u001b[0m\u001b[0m\n\u001b[1;32m      3\u001b[0m \u001b[0mprint\u001b[0m\u001b[0;34m(\u001b[0m\u001b[0mroman_values\u001b[0m\u001b[0;34m)\u001b[0m\u001b[0;34m\u001b[0m\u001b[0m\n\u001b[0;32m----> 4\u001b[0;31m \u001b[0mfinal_result\u001b[0m \u001b[0;34m=\u001b[0m \u001b[0mtransform_values_to_total\u001b[0m\u001b[0;34m(\u001b[0m\u001b[0mroman_values\u001b[0m\u001b[0;34m)\u001b[0m\u001b[0;34m\u001b[0m\u001b[0m\n\u001b[0m\u001b[1;32m      5\u001b[0m \u001b[0mprint\u001b[0m\u001b[0;34m(\u001b[0m\u001b[0mfinal_result\u001b[0m\u001b[0;34m)\u001b[0m\u001b[0;34m\u001b[0m\u001b[0m\n",
      "\u001b[0;32m<ipython-input-74-6f15d54f89c6>\u001b[0m in \u001b[0;36mtransform_values_to_total\u001b[0;34m(roman_values)\u001b[0m\n\u001b[1;32m     20\u001b[0m                 \u001b[0mprint\u001b[0m\u001b[0;34m(\u001b[0m\u001b[0;34m'Current is greater, subtracting list from current '\u001b[0m\u001b[0;34m,\u001b[0m \u001b[0mend\u001b[0m\u001b[0;34m=\u001b[0m\u001b[0;34m''\u001b[0m\u001b[0;34m)\u001b[0m\u001b[0;34m\u001b[0m\u001b[0m\n\u001b[1;32m     21\u001b[0m                 \u001b[0;32mif\u001b[0m \u001b[0mlen\u001b[0m\u001b[0;34m(\u001b[0m\u001b[0maccum_list\u001b[0m\u001b[0;34m)\u001b[0m \u001b[0;34m>\u001b[0m \u001b[0;36m1\u001b[0m\u001b[0;34m:\u001b[0m\u001b[0;34m\u001b[0m\u001b[0m\n\u001b[0;32m---> 22\u001b[0;31m                     \u001b[0;32mraise\u001b[0m \u001b[0mException\u001b[0m\u001b[0;34m(\u001b[0m\u001b[0;34m'More than 2 letters in a row before a greater letter'\u001b[0m\u001b[0;34m)\u001b[0m\u001b[0;34m\u001b[0m\u001b[0m\n\u001b[0m\u001b[1;32m     23\u001b[0m                 \u001b[0mtotal_value\u001b[0m \u001b[0;34m+=\u001b[0m \u001b[0mroman_values\u001b[0m\u001b[0;34m[\u001b[0m\u001b[0mi\u001b[0m\u001b[0;34m]\u001b[0m \u001b[0;34m-\u001b[0m \u001b[0msum\u001b[0m\u001b[0;34m(\u001b[0m\u001b[0maccum_list\u001b[0m\u001b[0;34m)\u001b[0m\u001b[0;34m\u001b[0m\u001b[0m\n\u001b[1;32m     24\u001b[0m                 \u001b[0mprint\u001b[0m\u001b[0;34m(\u001b[0m\u001b[0mroman_values\u001b[0m\u001b[0;34m[\u001b[0m\u001b[0mi\u001b[0m\u001b[0;34m]\u001b[0m\u001b[0;34m,\u001b[0m\u001b[0;34m'-'\u001b[0m\u001b[0;34m,\u001b[0m \u001b[0msum\u001b[0m\u001b[0;34m(\u001b[0m\u001b[0maccum_list\u001b[0m\u001b[0;34m)\u001b[0m\u001b[0;34m,\u001b[0m \u001b[0;34m'='\u001b[0m\u001b[0;34m,\u001b[0m \u001b[0mtotal_value\u001b[0m\u001b[0;34m)\u001b[0m\u001b[0;34m\u001b[0m\u001b[0m\n",
      "\u001b[0;31mException\u001b[0m: More than 2 letters in a row before a greater letter"
     ]
    }
   ],
   "source": [
    "input_roman = 'CCMIVL'\n",
    "roman_values = transform_roman_to_values(input_roman)\n",
    "print(roman_values)\n",
    "final_result = transform_values_to_total(roman_values)\n",
    "print(final_result)"
   ]
  }
 ],
 "metadata": {
  "kernelspec": {
   "display_name": "Python 3",
   "language": "python",
   "name": "python3"
  },
  "language_info": {
   "codemirror_mode": {
    "name": "ipython",
    "version": 3
   },
   "file_extension": ".py",
   "mimetype": "text/x-python",
   "name": "python",
   "nbconvert_exporter": "python",
   "pygments_lexer": "ipython3",
   "version": "3.6.0"
  }
 },
 "nbformat": 4,
 "nbformat_minor": 2
}
