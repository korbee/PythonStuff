{
 "cells": [
  {
   "cell_type": "code",
   "execution_count": 1,
   "metadata": {},
   "outputs": [],
   "source": [
    "input_roman = 'CDXLIV'\n",
    "sym_list = ['I', 'V', 'X', 'L', 'C', 'D', 'M']\n",
    "value_list = [1,5,10,50,100,500,1000]"
   ]
  },
  {
   "cell_type": "code",
   "execution_count": 2,
   "metadata": {},
   "outputs": [
    {
     "name": "stdout",
     "output_type": "stream",
     "text": [
      "[100, 500, 10, 50, 1, 5]\n"
     ]
    }
   ],
   "source": [
    "this_value_list = []\n",
    "for symbol in input_roman:\n",
    "    if symbol not in sym_list:\n",
    "        #exit\n",
    "        pass\n",
    "    this_value = value_list[sym_list.index(symbol)]\n",
    "    this_value_list.append(this_value)\n",
    "print(this_value_list)"
   ]
  },
  {
   "cell_type": "code",
   "execution_count": 3,
   "metadata": {},
   "outputs": [
    {
     "name": "stdout",
     "output_type": "stream",
     "text": [
      "566\n"
     ]
    }
   ],
   "source": [
    "accum_list = []\n",
    "total_value = 0\n",
    "equal_count = 1\n",
    "for i in range(len(this_value_list) - 1) :\n",
    "    if this_value_list[i] == this_value_list[i+1]:\n",
    "        accum_list.append(this_value_list[i])\n",
    "        equal_count += 1\n",
    "        if equal_count > 3:\n",
    "            print('invalido')\n",
    "            break\n",
    "    elif this_value_list[i] < this_value_list[i+1] \\\n",
    "        and equal_count > 1:\n",
    "        print('invalido')\n",
    "    else:\n",
    "        total_value += this_value_list[i+1] - sum(accum_list)\n",
    "        accum_list = list()\n",
    "        equal_count = 1\n",
    "print(total_value)"
   ]
  }
 ],
 "metadata": {
  "kernelspec": {
   "display_name": "Python 3",
   "language": "python",
   "name": "python3"
  },
  "language_info": {
   "codemirror_mode": {
    "name": "ipython",
    "version": 3
   },
   "file_extension": ".py",
   "mimetype": "text/x-python",
   "name": "python",
   "nbconvert_exporter": "python",
   "pygments_lexer": "ipython3",
   "version": "3.6.0"
  }
 },
 "nbformat": 4,
 "nbformat_minor": 2
}
