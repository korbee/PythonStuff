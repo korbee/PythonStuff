{
 "cells": [
  {
   "cell_type": "code",
   "execution_count": 2,
   "metadata": {},
   "outputs": [],
   "source": [
    "import random"
   ]
  },
  {
   "cell_type": "code",
   "execution_count": 33,
   "metadata": {
    "scrolled": true
   },
   "outputs": [
    {
     "name": "stdout",
     "output_type": "stream",
     "text": [
      "28 elementos\n",
      "[905, 1054, 566, 4402, 1766, 724, 4167, 622, 1490, 1982, 930, 2460, 558, 146, 2898, 4617, 850, 4145, 3955, 1034, 155, 2409, 3236, 33, 1480, 3143, 4722, 2613]\n"
     ]
    }
   ],
   "source": [
    "while True:\n",
    "    n_elements = random.randint(0,150)\n",
    "    #n_elements = int(input('Ingrese un número mayor a 4 y menor a 101: '))\n",
    "    if n_elements >= 5 and n_elements < 100:\n",
    "        break\n",
    "        \n",
    "print('{} elementos'.format(n_elements))\n",
    "lista_elementos = []\n",
    "\n",
    "\n",
    "#for i in range(n_elements):\n",
    "#    lista_elementos.append(input('{}: Ingrese otro número: '.format(i)))\n",
    "lista_elementos = [random.randint(0, 5000) for i in range(n_elements)]\n",
    "\n",
    "print(lista_elementos)\n",
    "\n",
    "#valor_p = input('Ingrese un valor p ')\n",
    "\n"
   ]
  },
  {
   "cell_type": "code",
   "execution_count": 13,
   "metadata": {},
   "outputs": [],
   "source": [
    "def my_max(lista):\n",
    "    maximo_actual = -(float('inf'))\n",
    "    for element in lista:\n",
    "        if element > maximo_actual:\n",
    "            maximo_actual = element\n",
    "    return maximo_actual\n",
    "\n",
    "def my_min(lista):\n",
    "    minimo_actual = (float('inf'))\n",
    "    for element in lista:\n",
    "        if element < minimo_actual:\n",
    "            minimo_actual = element\n",
    "    return minimo_actual\n",
    "\n",
    "def es_impar(a):\n",
    "    if a % 2 == 1:\n",
    "        return True\n",
    "    return False"
   ]
  },
  {
   "cell_type": "code",
   "execution_count": 35,
   "metadata": {},
   "outputs": [
    {
     "name": "stdout",
     "output_type": "stream",
     "text": [
      "33 4722\n",
      "1998\n"
     ]
    }
   ],
   "source": [
    "valor_p = float('inf')\n",
    "min_elemento = my_min(lista_elementos)\n",
    "max_elemento = my_max(lista_elementos)\n",
    "print(min_elemento, max_elemento)\n",
    "while not (valor_p >= min_elemento and valor_p <= max_elemento):\n",
    "    valor_p = random.randint(0, 5000)\n",
    "    print(valor_p)"
   ]
  },
  {
   "cell_type": "code",
   "execution_count": 36,
   "metadata": {},
   "outputs": [],
   "source": [
    "lista_final = []\n",
    "for element in lista_elementos:\n",
    "    if element > valor_p and es_impar(element):\n",
    "        lista_final.append(element)"
   ]
  },
  {
   "cell_type": "code",
   "execution_count": 37,
   "metadata": {},
   "outputs": [
    {
     "data": {
      "text/plain": [
       "[4167, 4617, 4145, 3955, 2409, 3143, 2613]"
      ]
     },
     "execution_count": 37,
     "metadata": {},
     "output_type": "execute_result"
    }
   ],
   "source": [
    "lista_final"
   ]
  }
 ],
 "metadata": {
  "kernelspec": {
   "display_name": "Python 3",
   "language": "python",
   "name": "python3"
  },
  "language_info": {
   "codemirror_mode": {
    "name": "ipython",
    "version": 3
   },
   "file_extension": ".py",
   "mimetype": "text/x-python",
   "name": "python",
   "nbconvert_exporter": "python",
   "pygments_lexer": "ipython3",
   "version": "3.6.0"
  }
 },
 "nbformat": 4,
 "nbformat_minor": 2
}
