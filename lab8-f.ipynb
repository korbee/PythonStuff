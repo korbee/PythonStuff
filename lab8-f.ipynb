{
 "cells": [
  {
   "cell_type": "code",
   "execution_count": 2,
   "metadata": {},
   "outputs": [],
   "source": [
    "import random"
   ]
  },
  {
   "cell_type": "code",
   "execution_count": 21,
   "metadata": {},
   "outputs": [],
   "source": [
    "n_elementos = 5\n",
    "lista_gastos = [random.randint(0,10000) for element in range(n_elementos)]\n",
    "lista_ingresos = [random.randint(0,10000) for element in range(n_elementos)]\n",
    "saldo_anterior = random.randint(0,10000)"
   ]
  },
  {
   "cell_type": "code",
   "execution_count": 22,
   "metadata": {},
   "outputs": [
    {
     "name": "stdout",
     "output_type": "stream",
     "text": [
      "[6390, 7662, 4904, 675, 3778]\n",
      "[6039, 5730, 9905, 5989, 3389]\n",
      "3402\n"
     ]
    }
   ],
   "source": [
    "print(lista_gastos)\n",
    "print(lista_ingresos)\n",
    "print(saldo_anterior)"
   ]
  },
  {
   "cell_type": "code",
   "execution_count": 23,
   "metadata": {},
   "outputs": [],
   "source": [
    "saldo_total = saldo_anterior\n",
    "gasto_total = 0\n",
    "ingreso_total = 0\n",
    "for gasto in lista_gastos:\n",
    "    gasto_total += gasto\n",
    "for ingreso in lista_ingresos:\n",
    "    ingreso_total += ingreso"
   ]
  },
  {
   "cell_type": "code",
   "execution_count": 24,
   "metadata": {},
   "outputs": [
    {
     "name": "stdout",
     "output_type": "stream",
     "text": [
      "11045\n"
     ]
    }
   ],
   "source": [
    "print(saldo_total + (ingreso_total - gasto_total))"
   ]
  }
 ],
 "metadata": {
  "kernelspec": {
   "display_name": "Python 3",
   "language": "python",
   "name": "python3"
  },
  "language_info": {
   "codemirror_mode": {
    "name": "ipython",
    "version": 3
   },
   "file_extension": ".py",
   "mimetype": "text/x-python",
   "name": "python",
   "nbconvert_exporter": "python",
   "pygments_lexer": "ipython3",
   "version": "3.6.0"
  }
 },
 "nbformat": 4,
 "nbformat_minor": 2
}
