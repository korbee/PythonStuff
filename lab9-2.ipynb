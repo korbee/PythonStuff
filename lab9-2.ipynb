{
 "cells": [
  {
   "cell_type": "code",
   "execution_count": 9,
   "metadata": {},
   "outputs": [],
   "source": [
    "import random\n",
    "import string"
   ]
  },
  {
   "cell_type": "code",
   "execution_count": 30,
   "metadata": {},
   "outputs": [
    {
     "name": "stdout",
     "output_type": "stream",
     "text": [
      "abcdefghijklmnopqrstuvwxyzABCDEFGHIJKLMNOPQRSTUVWXYZ0123456789 ñÑ\n"
     ]
    }
   ],
   "source": [
    "simbolos_permitidos = string.ascii_letters + string.digits + ' ' + 'ñÑ'\n",
    "print(simbolos_permitidos)"
   ]
  },
  {
   "cell_type": "code",
   "execution_count": 33,
   "metadata": {},
   "outputs": [],
   "source": [
    "cadena = 'ajsbvlADKBKZ23k219ava askd as d123 1o23ilasñzxvmASGZX'"
   ]
  },
  {
   "cell_type": "code",
   "execution_count": 37,
   "metadata": {},
   "outputs": [],
   "source": [
    "lista_simbolos = []\n",
    "lista_frecuencia = []\n",
    "\n",
    "for simbolo in cadena:\n",
    "    if simbolo not in simbolos_permitidos:\n",
    "        print('{}: simbolo no permitido'.format(simbolo))\n",
    "        break\n",
    "    if simbolo not in lista_simbolos:\n",
    "        lista_simbolos.append(simbolo)\n",
    "        lista_frecuencia.append(1)\n",
    "    else:\n",
    "        lista_frecuencia[lista_simbolos.index(simbolo)] += 1\n"
   ]
  },
  {
   "cell_type": "code",
   "execution_count": 40,
   "metadata": {},
   "outputs": [
    {
     "name": "stdout",
     "output_type": "stream",
     "text": [
      "a 6\n",
      "j 1\n",
      "s 4\n",
      "b 1\n",
      "v 3\n",
      "l 2\n",
      "A 2\n",
      "D 1\n",
      "K 2\n",
      "B 1\n",
      "Z 2\n",
      "2 4\n",
      "3 3\n",
      "k 2\n",
      "1 3\n",
      "9 1\n",
      "  4\n",
      "d 2\n",
      "o 1\n",
      "i 1\n",
      "ñ 1\n",
      "z 1\n",
      "x 1\n",
      "m 1\n",
      "S 1\n",
      "G 1\n",
      "X 1\n"
     ]
    }
   ],
   "source": [
    "for sym, freq in zip(lista_simbolos, lista_frecuencia):\n",
    "    print(sym ,freq)\n",
    "#print(lista_simbolos)\n",
    "#print(lista_frecuencia)"
   ]
  }
 ],
 "metadata": {
  "kernelspec": {
   "display_name": "Python 3",
   "language": "python",
   "name": "python3"
  },
  "language_info": {
   "codemirror_mode": {
    "name": "ipython",
    "version": 3
   },
   "file_extension": ".py",
   "mimetype": "text/x-python",
   "name": "python",
   "nbconvert_exporter": "python",
   "pygments_lexer": "ipython3",
   "version": "3.6.0"
  }
 },
 "nbformat": 4,
 "nbformat_minor": 2
}
