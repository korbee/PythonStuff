{
 "cells": [
  {
   "cell_type": "code",
   "execution_count": 10,
   "metadata": {},
   "outputs": [],
   "source": [
    "lista1 = ['Alice','Bob', 'Alicejnhdjdjdjd', 'Charlie', 'David', 'Charliezzvzxvv', 'Ethan', 'Fremen', 'wjwjwj']\n",
    "lista2 = ['Alicemaaaa','Bob', 'Alice', 'Charliezzzz', 'David', 'Charlie', 'Ethan', 'Fremen', 'Strrr']"
   ]
  },
  {
   "cell_type": "code",
   "execution_count": 11,
   "metadata": {},
   "outputs": [],
   "source": [
    "inter = []\n",
    "solo1 = []\n",
    "solo2 = []\n",
    "\n",
    "for element1 in lista1:\n",
    "    for element2 in lista2:\n",
    "        if element1 == element2:\n",
    "            inter.append(element1)\n",
    "\n",
    "for element in lista1:\n",
    "    if element not in inter:\n",
    "        solo1.append(element)\n",
    "for element in lista2:\n",
    "    if element not in inter:\n",
    "        solo2.append(element)\n",
    "        "
   ]
  },
  {
   "cell_type": "code",
   "execution_count": 12,
   "metadata": {},
   "outputs": [
    {
     "name": "stdout",
     "output_type": "stream",
     "text": [
      "['Alice', 'Bob', 'Charlie', 'David', 'Ethan', 'Fremen']\n",
      "['Alicejnhdjdjdjd', 'Charliezzvzxvv', 'wjwjwj']\n",
      "['Alicemaaaa', 'Charliezzzz', 'Strrr']\n"
     ]
    }
   ],
   "source": [
    "print(inter)\n",
    "print(solo1)\n",
    "print(solo2)"
   ]
  }
 ],
 "metadata": {
  "kernelspec": {
   "display_name": "Python 3",
   "language": "python",
   "name": "python3"
  },
  "language_info": {
   "codemirror_mode": {
    "name": "ipython",
    "version": 3
   },
   "file_extension": ".py",
   "mimetype": "text/x-python",
   "name": "python",
   "nbconvert_exporter": "python",
   "pygments_lexer": "ipython3",
   "version": "3.6.0"
  }
 },
 "nbformat": 4,
 "nbformat_minor": 2
}
