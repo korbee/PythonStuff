{
 "cells": [
  {
   "cell_type": "code",
   "execution_count": 3,
   "metadata": {},
   "outputs": [],
   "source": [
    "input_roman = 'CDXLIV'\n",
    "sym_list = ['I', 'V', 'X', 'L', 'C', 'D', 'M']\n",
    "value_list = [1,5,10,50,100,500,1000]"
   ]
  },
  {
   "cell_type": "code",
   "execution_count": 17,
   "metadata": {},
   "outputs": [
    {
     "name": "stdout",
     "output_type": "stream",
     "text": [
      "[100, 1000, 10, 50, 1, 1, 1]\n"
     ]
    }
   ],
   "source": [
    "this_value_list = []\n",
    "for symbol in input_roman:\n",
    "    if symbol not in sym_list:\n",
    "        #exit\n",
    "        pass\n",
    "    this_value = value_list[sym_list.index(symbol)]\n",
    "    this_value_list.append(this_value)\n",
    "print(this_value_list)"
   ]
  },
  {
   "cell_type": "code",
   "execution_count": 16,
   "metadata": {},
   "outputs": [],
   "source": [
    "input_roman = 'CMXLIII'"
   ]
  },
  {
   "cell_type": "code",
   "execution_count": 32,
   "metadata": {
    "scrolled": false
   },
   "outputs": [
    {
     "name": "stdout",
     "output_type": "stream",
     "text": [
      "Current value higher than last\n",
      "900\n",
      "Current value equal to last\n",
      "900\n",
      "Current value equal to last\n",
      "900\n",
      "Current value equal to last\n"
     ]
    },
    {
     "ename": "Exception",
     "evalue": "More than 3 of the same letter",
     "output_type": "error",
     "traceback": [
      "\u001b[0;31m---------------------------------------------------------------------------\u001b[0m",
      "\u001b[0;31mException\u001b[0m                                 Traceback (most recent call last)",
      "\u001b[0;32m<ipython-input-32-e4d88ac52773>\u001b[0m in \u001b[0;36m<module>\u001b[0;34m\u001b[0m\n\u001b[1;32m     18\u001b[0m         \u001b[0mequal_count\u001b[0m \u001b[0;34m+=\u001b[0m \u001b[0;36m1\u001b[0m\u001b[0;34m\u001b[0m\u001b[0m\n\u001b[1;32m     19\u001b[0m         \u001b[0;32mif\u001b[0m \u001b[0mequal_count\u001b[0m \u001b[0;34m>\u001b[0m \u001b[0;36m3\u001b[0m\u001b[0;34m:\u001b[0m\u001b[0;34m\u001b[0m\u001b[0m\n\u001b[0;32m---> 20\u001b[0;31m             \u001b[0;32mraise\u001b[0m \u001b[0mException\u001b[0m\u001b[0;34m(\u001b[0m\u001b[0;34m'More than 3 of the same letter'\u001b[0m\u001b[0;34m)\u001b[0m\u001b[0;34m\u001b[0m\u001b[0m\n\u001b[0m\u001b[1;32m     21\u001b[0m     \u001b[0;32melif\u001b[0m \u001b[0mthis_value_list\u001b[0m\u001b[0;34m[\u001b[0m\u001b[0mi\u001b[0m\u001b[0;34m]\u001b[0m \u001b[0;34m<\u001b[0m \u001b[0mlast_value\u001b[0m\u001b[0;34m:\u001b[0m\u001b[0;34m\u001b[0m\u001b[0m\n\u001b[1;32m     22\u001b[0m         \u001b[0mprint\u001b[0m\u001b[0;34m(\u001b[0m\u001b[0;34m'Current value less than last'\u001b[0m\u001b[0;34m)\u001b[0m\u001b[0;34m\u001b[0m\u001b[0m\n",
      "\u001b[0;31mException\u001b[0m: More than 3 of the same letter"
     ]
    }
   ],
   "source": [
    "accum_total = 0\n",
    "last_value = this_value_list[0]\n",
    "total_value = 0\n",
    "equal_count = 1\n",
    "i = 1\n",
    "print(0, last_value)\n",
    "while i < len(this_value_list):\n",
    "    print(i, this_value_list[i])\n",
    "    if this_value_list[i] > last_value:\n",
    "        print('Current value higher than last')\n",
    "        total_value += this_value_list[i+offset] - accum_total\n",
    "        accum_total = 0\n",
    "        equal_count = 1\n",
    "        i += 1\n",
    "    elif this_value_list[i] == last_value:\n",
    "        print('Current value equal to last')\n",
    "        accum_list.append(this_value_list[i])\n",
    "        equal_count += 1\n",
    "        if equal_count > 3:\n",
    "            raise Exception('More than 3 of the same letter')\n",
    "    elif this_value_list[i] < last_value:\n",
    "        if equal_count > 1:\n",
    "            raise Exception(';z')\n",
    "        accum_list.append(this_value_list[i])\n",
    "    print(last_value, '->', this_value_list[i])\n",
    "    last_value = this_value_list[i]\n",
    "    \n",
    "    \n",
    "print(total_value)"
   ]
  }
 ],
 "metadata": {
  "kernelspec": {
   "display_name": "Python 3",
   "language": "python",
   "name": "python3"
  },
  "language_info": {
   "codemirror_mode": {
    "name": "ipython",
    "version": 3
   },
   "file_extension": ".py",
   "mimetype": "text/x-python",
   "name": "python",
   "nbconvert_exporter": "python",
   "pygments_lexer": "ipython3",
   "version": "3.6.0"
  }
 },
 "nbformat": 4,
 "nbformat_minor": 2
}
